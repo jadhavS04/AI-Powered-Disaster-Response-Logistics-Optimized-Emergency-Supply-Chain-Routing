{
  "nbformat": 4,
  "nbformat_minor": 0,
  "metadata": {
    "colab": {
      "provenance": []
    },
    "kernelspec": {
      "name": "python3",
      "display_name": "Python 3"
    },
    "language_info": {
      "name": "python"
    }
  },
  "cells": [
    {
      "cell_type": "markdown",
      "source": [
        "**Project Title**\n",
        "\n",
        "AI-Powered Disaster Response Logistics: Optimized Emergency Supply Chain Routing"
      ],
      "metadata": {
        "id": "CHom8RjmHuoZ"
      }
    },
    {
      "cell_type": "markdown",
      "source": [
        "**Problem Statement**\n",
        "\n",
        "Disasters such as floods, cyclones, earthquakes, and wildfires frequently disrupt road networks, making it challenging to deliver essential supplies, including food, water, and medicine, to affected communities. Traditional supply chain routing methods are slow and ineffective under uncertain and dynamic conditions, leading to delays, resource wastage, and unmet demand. An intelligent system that can adapt to changing road conditions and demand patterns is essential for improving disaster response efficiency and saving lives."
      ],
      "metadata": {
        "id": "dul6G_xSH-hd"
      }
    },
    {
      "cell_type": "markdown",
      "source": [
        "**Description**\n",
        "\n",
        "This project develops an AI-driven optimization model for emergency supply chain routing during disasters. The system integrates road network data, hazard impact information, and demand signals from affected shelters to generate optimized delivery routes. It uses a combination of graph optimization techniques and reinforcement learning to dynamically re-route vehicles when roads are blocked or new requests arise.\n",
        "\n",
        "The dataset may include:\n",
        "\n",
        "Road network graphs (OpenStreetMap, government GIS data)\n",
        "\n",
        "Disaster impact data (flood zones, landslide risks, road closures)\n",
        "\n",
        "Demand data (shelter locations, population size, priority needs)\n",
        "\n",
        "Logistics data (vehicle capacities, depot locations, delivery times)\n",
        "\n",
        "The AI model predicts optimal routes that minimize delays, balance demand fulfillment across shelters, and reduce operational costs while avoiding hazardous zones. A visualization dashboard will display live routes, supply demand status, and risk zones to support decision-making for emergency response teams."
      ],
      "metadata": {
        "id": "kfeFm6VlIDQ7"
      }
    },
    {
      "cell_type": "code",
      "source": [
        "import pandas as pd\n",
        "import geopandas as gpd\n",
        "import osmnx as ox\n",
        "import folium\n",
        "from google.colab import files"
      ],
      "metadata": {
        "id": "4IRGlfmkPMcO"
      },
      "execution_count": 9,
      "outputs": []
    },
    {
      "cell_type": "code",
      "source": [
        "# Load Shelter Demand Data\n",
        "\n",
        "shelters = pd.read_csv(\"/content/mumbai_shelters_large.csv\")\n",
        "print(\"🏠 Shelter Data Preview:\\n\", shelters.head(), \"\\n\")\n",
        "print(\"Shelter Data Info:\")\n",
        "print(shelters.info(), \"\\n\")\n",
        "print(\"Shelter Data Description:\")\n",
        "print(shelters.describe(), \"\\n\")\n",
        "print(\"Missing Values in Shelter Data:\\n\", shelters.isnull().sum(), \"\\n\")"
      ],
      "metadata": {
        "colab": {
          "base_uri": "https://localhost:8080/"
        },
        "id": "JR0M8BGXHuQX",
        "outputId": "721e102c-a5b8-40f0-ce1c-90f402ff4778"
      },
      "execution_count": 10,
      "outputs": [
        {
          "output_type": "stream",
          "name": "stdout",
          "text": [
            "🏠 Shelter Data Preview:\n",
            "    shelter_id   latitude  longitude  capacity district\n",
            "0           1  18.987270  72.768089      1128   Mumbai\n",
            "1           2  19.275357  72.935974      1589   Mumbai\n",
            "2           3  19.165997  72.939222       703   Mumbai\n",
            "3           4  19.099329  72.973100       781   Mumbai\n",
            "4           5  18.878009  73.004132      1952   Mumbai \n",
            "\n",
            "Shelter Data Info:\n",
            "<class 'pandas.core.frame.DataFrame'>\n",
            "RangeIndex: 300 entries, 0 to 299\n",
            "Data columns (total 5 columns):\n",
            " #   Column      Non-Null Count  Dtype  \n",
            "---  ------      --------------  -----  \n",
            " 0   shelter_id  300 non-null    int64  \n",
            " 1   latitude    300 non-null    float64\n",
            " 2   longitude   300 non-null    float64\n",
            " 3   capacity    300 non-null    int64  \n",
            " 4   district    300 non-null    object \n",
            "dtypes: float64(2), int64(2), object(1)\n",
            "memory usage: 11.8+ KB\n",
            "None \n",
            "\n",
            "Shelter Data Description:\n",
            "       shelter_id    latitude   longitude     capacity\n",
            "count  300.000000  300.000000  300.000000   300.000000\n",
            "mean   150.500000   19.047602   72.928791  1016.210000\n",
            "std     86.746758    0.147170    0.105907   563.546984\n",
            "min      1.000000   18.802531   72.753793   100.000000\n",
            "25%     75.750000   18.919540   72.837365   523.250000\n",
            "50%    150.500000   19.055859   72.932596   981.000000\n",
            "75%    225.250000   19.178430   73.020670  1529.250000\n",
            "max    300.000000   19.295027   73.099901  1991.000000 \n",
            "\n",
            "Missing Values in Shelter Data:\n",
            " shelter_id    0\n",
            "latitude      0\n",
            "longitude     0\n",
            "capacity      0\n",
            "district      0\n",
            "dtype: int64 \n",
            "\n"
          ]
        }
      ]
    },
    {
      "cell_type": "code",
      "source": [
        "\n",
        "# Load Vehicle / Depot Data\n",
        "\n",
        "vehicles = pd.read_csv(\"/content/mumbai_vehicles_large.csv\")\n",
        "print(\"🚚 Vehicle Data Preview:\\n\", vehicles.head(), \"\\n\")\n",
        "print(\"Vehicle Data Info:\")\n",
        "print(vehicles.info(), \"\\n\")\n",
        "print(\"Vehicle Data Description:\")\n",
        "print(vehicles.describe(), \"\\n\")\n",
        "print(\"Missing Values in Vehicle Data:\\n\", vehicles.isnull().sum(), \"\\n\")"
      ],
      "metadata": {
        "colab": {
          "base_uri": "https://localhost:8080/"
        },
        "id": "QPk0JcFcIi54",
        "outputId": "b2e96e47-65cc-4cf8-ace4-aaa5999c0aac"
      },
      "execution_count": 11,
      "outputs": [
        {
          "output_type": "stream",
          "name": "stdout",
          "text": [
            "🚚 Vehicle Data Preview:\n",
            "   vehicle_id       type  capacity   agency     status district   latitude  \\\n",
            "0         V1       Jeep        66  Private  Available   Mumbai  19.221906   \n",
            "1         V2  Ambulance        20     Govt     In Use   Mumbai  19.030165   \n",
            "2         V3  Ambulance        10      NGO     In Use   Mumbai  18.908794   \n",
            "3         V4  Ambulance        28     Govt  Available   Mumbai  18.866889   \n",
            "4         V5      Truck        35  Private  Available   Mumbai  19.276654   \n",
            "\n",
            "   longitude  \n",
            "0  72.935337  \n",
            "1  72.844102  \n",
            "2  72.757363  \n",
            "3  73.002994  \n",
            "4  72.761370   \n",
            "\n",
            "Vehicle Data Info:\n",
            "<class 'pandas.core.frame.DataFrame'>\n",
            "RangeIndex: 1000 entries, 0 to 999\n",
            "Data columns (total 8 columns):\n",
            " #   Column      Non-Null Count  Dtype  \n",
            "---  ------      --------------  -----  \n",
            " 0   vehicle_id  1000 non-null   object \n",
            " 1   type        1000 non-null   object \n",
            " 2   capacity    1000 non-null   int64  \n",
            " 3   agency      1000 non-null   object \n",
            " 4   status      1000 non-null   object \n",
            " 5   district    1000 non-null   object \n",
            " 6   latitude    1000 non-null   float64\n",
            " 7   longitude   1000 non-null   float64\n",
            "dtypes: float64(2), int64(1), object(5)\n",
            "memory usage: 62.6+ KB\n",
            "None \n",
            "\n",
            "Vehicle Data Description:\n",
            "          capacity     latitude    longitude\n",
            "count  1000.000000  1000.000000  1000.000000\n",
            "mean     41.093000    19.048765    72.921208\n",
            "std      22.240661     0.144569     0.101084\n",
            "min       2.000000    18.801959    72.750084\n",
            "25%      22.000000    18.921730    72.833671\n",
            "50%      42.000000    19.048733    72.918802\n",
            "75%      60.000000    19.174090    73.010981\n",
            "max      79.000000    19.299730    73.099723 \n",
            "\n",
            "Missing Values in Vehicle Data:\n",
            " vehicle_id    0\n",
            "type          0\n",
            "capacity      0\n",
            "agency        0\n",
            "status        0\n",
            "district      0\n",
            "latitude      0\n",
            "longitude     0\n",
            "dtype: int64 \n",
            "\n"
          ]
        }
      ]
    },
    {
      "cell_type": "code",
      "source": [
        "\n",
        "# Load Disaster Impact Data (Hazard Zones)\n",
        "\n",
        "hazard_zones = pd.read_csv(\"/content/mumbai_hazard_zones_large.csv\")\n",
        "print(\"🌊 Hazard Zones Data Preview:\\n\", hazard_zones.head(), \"\\n\")\n",
        "print(\"Hazard Zones Info:\")\n",
        "print(hazard_zones.info(), \"\\n\")\n",
        "print(\"Hazard Zones Description:\")\n",
        "print(hazard_zones.describe(), \"\\n\")\n",
        "print(\"Missing Values in Hazard Zones:\\n\", hazard_zones.isnull().sum(), \"\\n\")"
      ],
      "metadata": {
        "colab": {
          "base_uri": "https://localhost:8080/"
        },
        "id": "8cS-maIfIvXJ",
        "outputId": "6a8b9a60-4f6d-4306-ead5-1b77edba1582"
      },
      "execution_count": 12,
      "outputs": [
        {
          "output_type": "stream",
          "name": "stdout",
          "text": [
            "🌊 Hazard Zones Data Preview:\n",
            "   zone_id   latitude  longitude risk_level hazard_type\n",
            "0     HZ1  18.902272  72.932882        Low        Fire\n",
            "1     HZ2  19.157032  73.006295       High       Flood\n",
            "2     HZ3  19.046991  72.751171     Medium        Fire\n",
            "3     HZ4  19.177318  72.913559     Medium     Cyclone\n",
            "4     HZ5  18.851458  72.853951     Medium        Fire \n",
            "\n",
            "Hazard Zones Info:\n",
            "<class 'pandas.core.frame.DataFrame'>\n",
            "RangeIndex: 300 entries, 0 to 299\n",
            "Data columns (total 5 columns):\n",
            " #   Column       Non-Null Count  Dtype  \n",
            "---  ------       --------------  -----  \n",
            " 0   zone_id      300 non-null    object \n",
            " 1   latitude     300 non-null    float64\n",
            " 2   longitude    300 non-null    float64\n",
            " 3   risk_level   300 non-null    object \n",
            " 4   hazard_type  300 non-null    object \n",
            "dtypes: float64(2), object(3)\n",
            "memory usage: 11.8+ KB\n",
            "None \n",
            "\n",
            "Hazard Zones Description:\n",
            "         latitude   longitude\n",
            "count  300.000000  300.000000\n",
            "mean    19.054355   72.930491\n",
            "std      0.139788    0.104787\n",
            "min     18.800119   72.750360\n",
            "25%     18.942672   72.837943\n",
            "50%     19.058835   72.936017\n",
            "75%     19.172227   73.022198\n",
            "max     19.299677   73.098718 \n",
            "\n",
            "Missing Values in Hazard Zones:\n",
            " zone_id        0\n",
            "latitude       0\n",
            "longitude      0\n",
            "risk_level     0\n",
            "hazard_type    0\n",
            "dtype: int64 \n",
            "\n"
          ]
        }
      ]
    },
    {
      "cell_type": "code",
      "source": [
        "#  Load Road Network for Mumbai\n",
        "\n",
        "place = \"Mumbai, India\"\n",
        "G = ox.graph_from_place(place, network_type=\"drive\")\n",
        "\n",
        "# Convert to GeoDataFrames\n",
        "nodes, edges = ox.graph_to_gdfs(G)\n",
        "\n",
        "# Save as CSV\n",
        "nodes.to_csv(\"mumbai_roads_nodes.csv\", index=False)\n",
        "edges.to_csv(\"mumbai_roads_edges.csv\", index=False)\n",
        "\n",
        "print(f\"✅ Road network loaded: {len(G.nodes)} nodes, {len(G.edges)} edges\")\n",
        "print(\"📂 Files saved: mumbai_roads_nodes.csv & mumbai_roads_edges.csv\\n\")\n",
        "\n",
        "# Download files in Colab\n",
        "files.download(\"mumbai_roads_nodes.csv\")\n",
        "files.download(\"mumbai_roads_edges.csv\")\n"
      ],
      "metadata": {
        "colab": {
          "base_uri": "https://localhost:8080/",
          "height": 69
        },
        "id": "eiypikOtOwEj",
        "outputId": "bf1fe846-3857-418b-f7c7-8b7b737f5108"
      },
      "execution_count": 13,
      "outputs": [
        {
          "output_type": "stream",
          "name": "stdout",
          "text": [
            "✅ Road network loaded: 18779 nodes, 43164 edges\n",
            "📂 Files saved: mumbai_roads_nodes.csv & mumbai_roads_edges.csv\n",
            "\n"
          ]
        },
        {
          "output_type": "display_data",
          "data": {
            "text/plain": [
              "<IPython.core.display.Javascript object>"
            ],
            "application/javascript": [
              "\n",
              "    async function download(id, filename, size) {\n",
              "      if (!google.colab.kernel.accessAllowed) {\n",
              "        return;\n",
              "      }\n",
              "      const div = document.createElement('div');\n",
              "      const label = document.createElement('label');\n",
              "      label.textContent = `Downloading \"${filename}\": `;\n",
              "      div.appendChild(label);\n",
              "      const progress = document.createElement('progress');\n",
              "      progress.max = size;\n",
              "      div.appendChild(progress);\n",
              "      document.body.appendChild(div);\n",
              "\n",
              "      const buffers = [];\n",
              "      let downloaded = 0;\n",
              "\n",
              "      const channel = await google.colab.kernel.comms.open(id);\n",
              "      // Send a message to notify the kernel that we're ready.\n",
              "      channel.send({})\n",
              "\n",
              "      for await (const message of channel.messages) {\n",
              "        // Send a message to notify the kernel that we're ready.\n",
              "        channel.send({})\n",
              "        if (message.buffers) {\n",
              "          for (const buffer of message.buffers) {\n",
              "            buffers.push(buffer);\n",
              "            downloaded += buffer.byteLength;\n",
              "            progress.value = downloaded;\n",
              "          }\n",
              "        }\n",
              "      }\n",
              "      const blob = new Blob(buffers, {type: 'application/binary'});\n",
              "      const a = document.createElement('a');\n",
              "      a.href = window.URL.createObjectURL(blob);\n",
              "      a.download = filename;\n",
              "      div.appendChild(a);\n",
              "      a.click();\n",
              "      div.remove();\n",
              "    }\n",
              "  "
            ]
          },
          "metadata": {}
        },
        {
          "output_type": "display_data",
          "data": {
            "text/plain": [
              "<IPython.core.display.Javascript object>"
            ],
            "application/javascript": [
              "download(\"download_cb8c637c-0c2a-4d8f-ba74-757617165184\", \"mumbai_roads_nodes.csv\", 1058670)"
            ]
          },
          "metadata": {}
        },
        {
          "output_type": "display_data",
          "data": {
            "text/plain": [
              "<IPython.core.display.Javascript object>"
            ],
            "application/javascript": [
              "\n",
              "    async function download(id, filename, size) {\n",
              "      if (!google.colab.kernel.accessAllowed) {\n",
              "        return;\n",
              "      }\n",
              "      const div = document.createElement('div');\n",
              "      const label = document.createElement('label');\n",
              "      label.textContent = `Downloading \"${filename}\": `;\n",
              "      div.appendChild(label);\n",
              "      const progress = document.createElement('progress');\n",
              "      progress.max = size;\n",
              "      div.appendChild(progress);\n",
              "      document.body.appendChild(div);\n",
              "\n",
              "      const buffers = [];\n",
              "      let downloaded = 0;\n",
              "\n",
              "      const channel = await google.colab.kernel.comms.open(id);\n",
              "      // Send a message to notify the kernel that we're ready.\n",
              "      channel.send({})\n",
              "\n",
              "      for await (const message of channel.messages) {\n",
              "        // Send a message to notify the kernel that we're ready.\n",
              "        channel.send({})\n",
              "        if (message.buffers) {\n",
              "          for (const buffer of message.buffers) {\n",
              "            buffers.push(buffer);\n",
              "            downloaded += buffer.byteLength;\n",
              "            progress.value = downloaded;\n",
              "          }\n",
              "        }\n",
              "      }\n",
              "      const blob = new Blob(buffers, {type: 'application/binary'});\n",
              "      const a = document.createElement('a');\n",
              "      a.href = window.URL.createObjectURL(blob);\n",
              "      a.download = filename;\n",
              "      div.appendChild(a);\n",
              "      a.click();\n",
              "      div.remove();\n",
              "    }\n",
              "  "
            ]
          },
          "metadata": {}
        },
        {
          "output_type": "display_data",
          "data": {
            "text/plain": [
              "<IPython.core.display.Javascript object>"
            ],
            "application/javascript": [
              "download(\"download_104be11a-5ac4-4380-b7ff-1df4cfaf25f3\", \"mumbai_roads_edges.csv\", 7373868)"
            ]
          },
          "metadata": {}
        }
      ]
    },
    {
      "cell_type": "code",
      "source": [
        "# Load roads_edges\n",
        "\n",
        "roads_edges = pd.read_csv(\"/content/mumbai_roads_edges.csv\")\n",
        "print(\"roads_edges Data Preview:\\n\", roads_edges.head(), \"\\n\")\n",
        "print(\"roads_edges Info:\")\n",
        "print(roads_edges.info(), \"\\n\")\n",
        "print(\"roads_edges Description:\")\n",
        "print(roads_edges.describe(), \"\\n\")\n",
        "print(\"Missing Values in roads_edges:\\n\", roads_edges.isnull().sum(), \"\\n\")"
      ],
      "metadata": {
        "colab": {
          "base_uri": "https://localhost:8080/"
        },
        "id": "uhitZxqZQQM8",
        "outputId": "3b9d20bd-b5c2-4d29-bedf-04d6dc8e297a"
      },
      "execution_count": 14,
      "outputs": [
        {
          "output_type": "stream",
          "name": "stdout",
          "text": [
            "roads_edges Data Preview:\n",
            "                                 osmid      highway lanes  \\\n",
            "0               [122277872, 84017620]     motorway     5   \n",
            "1  [779575745, 779575746, 1188911679]  residential   NaN   \n",
            "2                           322981396  residential   NaN   \n",
            "3                          1191876389     tertiary   NaN   \n",
            "4                          1191876389     tertiary   NaN   \n",
            "\n",
            "                       name  oneway reversed       length maxspeed  \\\n",
            "0       Sion Panvel Highway    True    False  2053.419145      120   \n",
            "1                       NaN   False     True   547.410950      NaN   \n",
            "2  Vithoba Nathu Gawad Marg   False     True   216.099902      NaN   \n",
            "3                  RCF Road   False    False   808.581445      NaN   \n",
            "4                  RCF Road   False     True   294.447976      NaN   \n",
            "\n",
            "                                            geometry tunnel junction bridge  \\\n",
            "0  LINESTRING (72.9591875 19.0588477, 72.958572 1...    NaN      NaN    NaN   \n",
            "1  LINESTRING (72.9591875 19.0588477, 72.9594013 ...    yes      NaN    NaN   \n",
            "2  LINESTRING (72.8886138 19.0333093, 72.888719 1...    NaN      NaN    NaN   \n",
            "3  LINESTRING (72.8886138 19.0333093, 72.8890627 ...    NaN      NaN    NaN   \n",
            "4  LINESTRING (72.8886138 19.0333093, 72.8883428 ...    NaN      NaN    NaN   \n",
            "\n",
            "   ref access width  \n",
            "0  NaN    NaN   NaN  \n",
            "1  NaN    NaN   NaN  \n",
            "2  NaN    NaN   NaN  \n",
            "3  NaN    NaN   NaN  \n",
            "4  NaN    NaN   NaN   \n",
            "\n",
            "roads_edges Info:\n",
            "<class 'pandas.core.frame.DataFrame'>\n",
            "RangeIndex: 43164 entries, 0 to 43163\n",
            "Data columns (total 15 columns):\n",
            " #   Column    Non-Null Count  Dtype  \n",
            "---  ------    --------------  -----  \n",
            " 0   osmid     43164 non-null  object \n",
            " 1   highway   43164 non-null  object \n",
            " 2   lanes     3111 non-null   object \n",
            " 3   name      15520 non-null  object \n",
            " 4   oneway    43164 non-null  bool   \n",
            " 5   reversed  43164 non-null  object \n",
            " 6   length    43164 non-null  float64\n",
            " 7   maxspeed  519 non-null    object \n",
            " 8   geometry  43164 non-null  object \n",
            " 9   tunnel    32 non-null     object \n",
            " 10  junction  140 non-null    object \n",
            " 11  bridge    816 non-null    object \n",
            " 12  ref       430 non-null    object \n",
            " 13  access    591 non-null    object \n",
            " 14  width     436 non-null    object \n",
            "dtypes: bool(1), float64(1), object(13)\n",
            "memory usage: 4.7+ MB\n",
            "None \n",
            "\n",
            "roads_edges Description:\n",
            "             length\n",
            "count  43164.000000\n",
            "mean     105.063424\n",
            "std      131.038928\n",
            "min        1.177800\n",
            "25%       36.238383\n",
            "50%       74.314475\n",
            "75%      132.582489\n",
            "max     5142.932793 \n",
            "\n",
            "Missing Values in roads_edges:\n",
            " osmid           0\n",
            "highway         0\n",
            "lanes       40053\n",
            "name        27644\n",
            "oneway          0\n",
            "reversed        0\n",
            "length          0\n",
            "maxspeed    42645\n",
            "geometry        0\n",
            "tunnel      43132\n",
            "junction    43024\n",
            "bridge      42348\n",
            "ref         42734\n",
            "access      42573\n",
            "width       42728\n",
            "dtype: int64 \n",
            "\n"
          ]
        }
      ]
    },
    {
      "cell_type": "code",
      "source": [
        "# Load roads_nodes\n",
        "\n",
        "roads_nodes = pd.read_csv(\"/content/mumbai_roads_nodes.csv\")\n",
        "print(\"roads_nodes Data Preview:\\n\", roads_nodes.head(), \"\\n\")\n",
        "print(\"roads_nodes Info:\")\n",
        "print(roads_nodes.info(), \"\\n\")\n",
        "print(\"roads_nodes Description:\")\n",
        "print(roads_nodes.describe(), \"\\n\")\n",
        "print(\"Missing Values in roads_nodes:\\n\", roads_nodes.isnull().sum(), \"\\n\")"
      ],
      "metadata": {
        "colab": {
          "base_uri": "https://localhost:8080/"
        },
        "id": "vlJmM_qfRBQu",
        "outputId": "7ea56bcb-b6a2-4c00-90c3-9d859f875cee"
      },
      "execution_count": 15,
      "outputs": [
        {
          "output_type": "stream",
          "name": "stdout",
          "text": [
            "roads_nodes Data Preview:\n",
            "            y          x  street_count          highway junction  \\\n",
            "0  19.058848  72.959187             3              NaN      NaN   \n",
            "1  19.033309  72.888614             3              NaN      NaN   \n",
            "2  19.042996  72.925214             3              NaN      NaN   \n",
            "3  19.045532  72.914053             4  traffic_signals      NaN   \n",
            "4  19.045855  72.905108             3              NaN      NaN   \n",
            "\n",
            "                        geometry  \n",
            "0  POINT (72.9591875 19.0588477)  \n",
            "1  POINT (72.8886138 19.0333093)  \n",
            "2  POINT (72.9252136 19.0429959)  \n",
            "3  POINT (72.9140531 19.0455324)  \n",
            "4   POINT (72.9051082 19.045855)   \n",
            "\n",
            "roads_nodes Info:\n",
            "<class 'pandas.core.frame.DataFrame'>\n",
            "RangeIndex: 18779 entries, 0 to 18778\n",
            "Data columns (total 6 columns):\n",
            " #   Column        Non-Null Count  Dtype  \n",
            "---  ------        --------------  -----  \n",
            " 0   y             18779 non-null  float64\n",
            " 1   x             18779 non-null  float64\n",
            " 2   street_count  18779 non-null  int64  \n",
            " 3   highway       1001 non-null   object \n",
            " 4   junction      92 non-null     object \n",
            " 5   geometry      18779 non-null  object \n",
            "dtypes: float64(2), int64(1), object(3)\n",
            "memory usage: 880.4+ KB\n",
            "None \n",
            "\n",
            "roads_nodes Description:\n",
            "                  y             x  street_count\n",
            "count  18779.000000  18779.000000  18779.000000\n",
            "mean      19.135344     72.869366      2.762181\n",
            "std        0.060158      0.037740      0.986162\n",
            "min       19.000763     72.782380      1.000000\n",
            "25%       19.080422     72.840516      3.000000\n",
            "50%       19.129153     72.860534      3.000000\n",
            "75%       19.184281     72.896215      3.000000\n",
            "max       19.263898     72.974419      6.000000 \n",
            "\n",
            "Missing Values in roads_nodes:\n",
            " y                   0\n",
            "x                   0\n",
            "street_count        0\n",
            "highway         17778\n",
            "junction        18687\n",
            "geometry            0\n",
            "dtype: int64 \n",
            "\n"
          ]
        }
      ]
    }
  ]
}